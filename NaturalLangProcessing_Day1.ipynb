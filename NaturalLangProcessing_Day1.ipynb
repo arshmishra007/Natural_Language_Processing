{
 "cells": [
  {
   "cell_type": "markdown",
   "metadata": {},
   "source": [
    "# Natural Lang Processing Day1"
   ]
  },
  {
   "cell_type": "code",
   "execution_count": 1,
   "metadata": {},
   "outputs": [],
   "source": [
    "#Suppose we have our feature in the form of text , then how we will be able to process it?\n",
    "\n",
    "# for that purpose NLP is used \n",
    "\n",
    "#Applications of NLP -> Google Assistant , Spam Classifier in GMail etc\n"
   ]
  },
  {
   "cell_type": "code",
   "execution_count": 2,
   "metadata": {},
   "outputs": [],
   "source": [
    "#performing the tokenization of paragraphs\n",
    "#tokenization means breaking para into sentences\n",
    "#importing the Library\n",
    "import nltk"
   ]
  },
  {
   "cell_type": "code",
   "execution_count": 3,
   "metadata": {},
   "outputs": [
    {
     "name": "stdout",
     "output_type": "stream",
     "text": [
      "showing info https://raw.githubusercontent.com/nltk/nltk_data/gh-pages/index.xml\n"
     ]
    },
    {
     "data": {
      "text/plain": [
       "True"
      ]
     },
     "execution_count": 3,
     "metadata": {},
     "output_type": "execute_result"
    }
   ],
   "source": [
    "nltk.download()"
   ]
  },
  {
   "cell_type": "code",
   "execution_count": 4,
   "metadata": {},
   "outputs": [],
   "source": [
    "# step1 tokenization -> initializing a paragraph\n",
    "\n",
    "paragraph = '''A warm welcome to you all. I am here to deliver a speech on India. India is one of the ancient civilizations in the world and is also the 7th largest country in the world. India is one of the best countries in the world for many reasons, acceptance of people of other religions, the closely bonded family culture, the biggest democratic nation, and the fastest-growing economy. With 1.3 billion of population India is the second-largest country in the world. India is God’s favorite country to be blessed with all seasons – spring, summer, monsoon, autumn, pre-winter, and winter. People around the world also recognize India for its Bollywood stardom and Beauty pageants.The number system and the number zero are the gifts by Aryabhatta from India to the world. One of the finest and First University of the world Takshshila belongs to India from 700 BC. Sanskrit, Ayurveda, Art of Navigation, Astronomy, Algebra, Trigonometry, Calculus, Decimal system, Chess and many more are the achievement of Indian History.'''"
   ]
  },
  {
   "cell_type": "code",
   "execution_count": 5,
   "metadata": {},
   "outputs": [],
   "source": [
    "# step2 tokenizing sentences\n",
    "#converting the paragraph into sentences"
   ]
  },
  {
   "cell_type": "code",
   "execution_count": 6,
   "metadata": {},
   "outputs": [],
   "source": [
    "sentences =nltk.sent_tokenize(paragraph)"
   ]
  },
  {
   "cell_type": "code",
   "execution_count": 7,
   "metadata": {},
   "outputs": [
    {
     "data": {
      "text/plain": [
       "['A warm welcome to you all.',\n",
       " 'I am here to deliver a speech on India.',\n",
       " 'India is one of the ancient civilizations in the world and is also the 7th largest country in the world.',\n",
       " 'India is one of the best countries in the world for many reasons, acceptance of people of other religions, the closely bonded family culture, the biggest democratic nation, and the fastest-growing economy.',\n",
       " 'With 1.3 billion of population India is the second-largest country in the world.',\n",
       " 'India is God’s favorite country to be blessed with all seasons – spring, summer, monsoon, autumn, pre-winter, and winter.',\n",
       " 'People around the world also recognize India for its Bollywood stardom and Beauty pageants.The number system and the number zero are the gifts by Aryabhatta from India to the world.',\n",
       " 'One of the finest and First University of the world Takshshila belongs to India from 700 BC.',\n",
       " 'Sanskrit, Ayurveda, Art of Navigation, Astronomy, Algebra, Trigonometry, Calculus, Decimal system, Chess and many more are the achievement of Indian History.']"
      ]
     },
     "execution_count": 7,
     "metadata": {},
     "output_type": "execute_result"
    }
   ],
   "source": [
    "sentences"
   ]
  },
  {
   "cell_type": "code",
   "execution_count": 10,
   "metadata": {},
   "outputs": [
    {
     "name": "stdout",
     "output_type": "stream",
     "text": [
      "9\n"
     ]
    }
   ],
   "source": [
    "print(len(sentences))"
   ]
  },
  {
   "cell_type": "code",
   "execution_count": 11,
   "metadata": {},
   "outputs": [],
   "source": [
    "#now the sentences will be present in the form of list"
   ]
  },
  {
   "cell_type": "code",
   "execution_count": 12,
   "metadata": {},
   "outputs": [],
   "source": [
    "# step3 converting sentences into words\n",
    "#tokenizing words\n",
    "words = nltk.word_tokenize(paragraph)"
   ]
  },
  {
   "cell_type": "code",
   "execution_count": 13,
   "metadata": {},
   "outputs": [
    {
     "name": "stdout",
     "output_type": "stream",
     "text": [
      "195\n"
     ]
    }
   ],
   "source": [
    "print(len(words))"
   ]
  },
  {
   "cell_type": "code",
   "execution_count": null,
   "metadata": {},
   "outputs": [],
   "source": []
  }
 ],
 "metadata": {
  "kernelspec": {
   "display_name": "Python 3",
   "language": "python",
   "name": "python3"
  },
  "language_info": {
   "codemirror_mode": {
    "name": "ipython",
    "version": 3
   },
   "file_extension": ".py",
   "mimetype": "text/x-python",
   "name": "python",
   "nbconvert_exporter": "python",
   "pygments_lexer": "ipython3",
   "version": "3.7.6"
  }
 },
 "nbformat": 4,
 "nbformat_minor": 4
}
