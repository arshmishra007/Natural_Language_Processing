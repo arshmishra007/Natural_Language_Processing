{
 "cells": [
  {
   "cell_type": "markdown",
   "metadata": {},
   "source": [
    "# NaturalLanguageProcessing_Day3"
   ]
  },
  {
   "cell_type": "code",
   "execution_count": 1,
   "metadata": {},
   "outputs": [],
   "source": [
    "#Lemmatization\n"
   ]
  },
  {
   "cell_type": "code",
   "execution_count": 2,
   "metadata": {},
   "outputs": [],
   "source": [
    "#importing the nltk library\n",
    "import nltk"
   ]
  },
  {
   "cell_type": "code",
   "execution_count": 3,
   "metadata": {},
   "outputs": [],
   "source": [
    "#importing the lemmatization library\n",
    "from nltk.stem import WordNetLemmatizer\n",
    "#importing the stopwords\n",
    "from nltk.corpus import stopwords"
   ]
  },
  {
   "cell_type": "code",
   "execution_count": 4,
   "metadata": {},
   "outputs": [],
   "source": [
    "paragraph = '''A warm welcome to you all. I am here to deliver a speech on India. India is one of the ancient civilizations in the world and is also the 7th largest country in the world. India is one of the best countries in the world for many reasons, acceptance of people of other religions, the closely bonded family culture, the biggest democratic nation, and the fastest-growing economy. With 1.3 billion of population India is the second-largest country in the world. India is God’s favorite country to be blessed with all seasons – spring, summer, monsoon, autumn, pre-winter, and winter. People around the world also recognize India for its Bollywood stardom and Beauty pageants.The number system and the number zero are the gifts by Aryabhatta from India to the world. One of the finest and First University of the world Takshshila belongs to India from 700 BC. Sanskrit, Ayurveda, Art of Navigation, Astronomy, Algebra, Trigonometry, Calculus, Decimal system, Chess and many more are the achievement of Indian History.'''"
   ]
  },
  {
   "cell_type": "code",
   "execution_count": 5,
   "metadata": {},
   "outputs": [],
   "source": [
    "#WordNetLemmatizer helps us in using the Lemmatization"
   ]
  },
  {
   "cell_type": "code",
   "execution_count": 6,
   "metadata": {},
   "outputs": [],
   "source": [
    "sentences = nltk.sent_tokenize(paragraph)"
   ]
  },
  {
   "cell_type": "code",
   "execution_count": 7,
   "metadata": {},
   "outputs": [
    {
     "name": "stdout",
     "output_type": "stream",
     "text": [
      "9\n"
     ]
    }
   ],
   "source": [
    "print(len(sentences))"
   ]
  },
  {
   "cell_type": "code",
   "execution_count": 8,
   "metadata": {},
   "outputs": [],
   "source": [
    "lemmatizer =WordNetLemmatizer()"
   ]
  },
  {
   "cell_type": "code",
   "execution_count": 9,
   "metadata": {},
   "outputs": [],
   "source": [
    "#lemmatization\n",
    "for i in range(len(sentences)):\n",
    "    words = nltk.word_tokenize(sentences[i])\n",
    "    words = [lemmatizer.lemmatize(word) for word in words if word not in set(stopwords.words('english'))]\n",
    "    sentences[i]=' '.join(words)"
   ]
  },
  {
   "cell_type": "code",
   "execution_count": 10,
   "metadata": {},
   "outputs": [
    {
     "name": "stdout",
     "output_type": "stream",
     "text": [
      "['A warm welcome .', 'I deliver speech India .', 'India one ancient civilization world also 7th largest country world .', 'India one best country world many reason , acceptance people religion , closely bonded family culture , biggest democratic nation , fastest-growing economy .', 'With 1.3 billion population India second-largest country world .', 'India God ’ favorite country blessed season – spring , summer , monsoon , autumn , pre-winter , winter .', 'People around world also recognize India Bollywood stardom Beauty pageants.The number system number zero gift Aryabhatta India world .', 'One finest First University world Takshshila belongs India 700 BC .', 'Sanskrit , Ayurveda , Art Navigation , Astronomy , Algebra , Trigonometry , Calculus , Decimal system , Chess many achievement Indian History .']\n"
     ]
    }
   ],
   "source": [
    "print(sentences)"
   ]
  },
  {
   "cell_type": "code",
   "execution_count": null,
   "metadata": {},
   "outputs": [],
   "source": []
  }
 ],
 "metadata": {
  "kernelspec": {
   "display_name": "Python 3",
   "language": "python",
   "name": "python3"
  },
  "language_info": {
   "codemirror_mode": {
    "name": "ipython",
    "version": 3
   },
   "file_extension": ".py",
   "mimetype": "text/x-python",
   "name": "python",
   "nbconvert_exporter": "python",
   "pygments_lexer": "ipython3",
   "version": "3.7.6"
  }
 },
 "nbformat": 4,
 "nbformat_minor": 4
}
