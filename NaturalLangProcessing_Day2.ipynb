{
 "cells": [
  {
   "cell_type": "markdown",
   "metadata": {},
   "source": [
    "# NaturalLanguageProcessing_Day2"
   ]
  },
  {
   "cell_type": "markdown",
   "metadata": {},
   "source": [
    "# Stemming"
   ]
  },
  {
   "cell_type": "code",
   "execution_count": 1,
   "metadata": {},
   "outputs": [],
   "source": [
    "import nltk"
   ]
  },
  {
   "cell_type": "code",
   "execution_count": 2,
   "metadata": {},
   "outputs": [],
   "source": [
    "#importing the stemmer library\n",
    "from nltk.stem import PorterStemmer"
   ]
  },
  {
   "cell_type": "code",
   "execution_count": 3,
   "metadata": {},
   "outputs": [],
   "source": [
    "#importing the stopwords library\n",
    "from nltk.corpus import stopwords"
   ]
  },
  {
   "cell_type": "code",
   "execution_count": 4,
   "metadata": {},
   "outputs": [],
   "source": [
    "paragraph = '''A warm welcome to you all. I am here to deliver a speech on India. India is one of the ancient civilizations in the world and is also the 7th largest country in the world. India is one of the best countries in the world for many reasons, acceptance of people of other religions, the closely bonded family culture, the biggest democratic nation, and the fastest-growing economy. With 1.3 billion of population India is the second-largest country in the world. India is God’s favorite country to be blessed with all seasons – spring, summer, monsoon, autumn, pre-winter, and winter. People around the world also recognize India for its Bollywood stardom and Beauty pageants.The number system and the number zero are the gifts by Aryabhatta from India to the world. One of the finest and First University of the world Takshshila belongs to India from 700 BC. Sanskrit, Ayurveda, Art of Navigation, Astronomy, Algebra, Trigonometry, Calculus, Decimal system, Chess and many more are the achievement of Indian History.'''"
   ]
  },
  {
   "cell_type": "code",
   "execution_count": 5,
   "metadata": {},
   "outputs": [],
   "source": [
    "# in this paragraph we will see various kinds of words like of , from , our etc which occur in repetition throught this para.\n",
    "# So stopwords helps us to remove these kinds of words from this paragraph"
   ]
  },
  {
   "cell_type": "code",
   "execution_count": 6,
   "metadata": {},
   "outputs": [],
   "source": [
    "#converting para into sentences"
   ]
  },
  {
   "cell_type": "code",
   "execution_count": 7,
   "metadata": {},
   "outputs": [],
   "source": [
    "sentences = nltk.sent_tokenize(paragraph)"
   ]
  },
  {
   "cell_type": "code",
   "execution_count": 8,
   "metadata": {},
   "outputs": [
    {
     "name": "stdout",
     "output_type": "stream",
     "text": [
      "9\n"
     ]
    }
   ],
   "source": [
    "print(len(sentences))"
   ]
  },
  {
   "cell_type": "code",
   "execution_count": 9,
   "metadata": {},
   "outputs": [],
   "source": [
    "# now para get converted into sentences"
   ]
  },
  {
   "cell_type": "code",
   "execution_count": 10,
   "metadata": {},
   "outputs": [],
   "source": [
    "#initializing the porterstemmer\n",
    "stemmer =PorterStemmer()"
   ]
  },
  {
   "cell_type": "code",
   "execution_count": 11,
   "metadata": {},
   "outputs": [],
   "source": [
    "#now we will remove this stopwords from the para"
   ]
  },
  {
   "cell_type": "code",
   "execution_count": 12,
   "metadata": {},
   "outputs": [],
   "source": [
    "#stemming\n",
    "for i in range(len(sentences)):\n",
    "    words = nltk.word_tokenize(sentences[i])\n",
    "    words = [stemmer.stem(word) for word in words if word not in set(stopwords.words('english'))]\n",
    "    sentences[i]=' '.join(words)"
   ]
  },
  {
   "cell_type": "code",
   "execution_count": 13,
   "metadata": {},
   "outputs": [
    {
     "name": "stdout",
     "output_type": "stream",
     "text": [
      "['A warm welcom .', 'I deliv speech india .', 'india one ancient civil world also 7th largest countri world .', 'india one best countri world mani reason , accept peopl religion , close bond famili cultur , biggest democrat nation , fastest-grow economi .', 'with 1.3 billion popul india second-largest countri world .', 'india god ’ favorit countri bless season – spring , summer , monsoon , autumn , pre-wint , winter .', 'peopl around world also recogn india bollywood stardom beauti pageants.th number system number zero gift aryabhatta india world .', 'one finest first univers world takshshila belong india 700 BC .', 'sanskrit , ayurveda , art navig , astronomi , algebra , trigonometri , calculu , decim system , chess mani achiev indian histori .']\n"
     ]
    }
   ],
   "source": [
    "print(sentences)"
   ]
  },
  {
   "cell_type": "code",
   "execution_count": null,
   "metadata": {},
   "outputs": [],
   "source": [
    "# problems with stemming is\n",
    "\n",
    "#produced intermediate representation of the word may not have any meaning eg deliv ,welcom etc"
   ]
  }
 ],
 "metadata": {
  "kernelspec": {
   "display_name": "Python 3",
   "language": "python",
   "name": "python3"
  },
  "language_info": {
   "codemirror_mode": {
    "name": "ipython",
    "version": 3
   },
   "file_extension": ".py",
   "mimetype": "text/x-python",
   "name": "python",
   "nbconvert_exporter": "python",
   "pygments_lexer": "ipython3",
   "version": "3.7.6"
  }
 },
 "nbformat": 4,
 "nbformat_minor": 4
}
